{
 "cells": [
  {
   "cell_type": "code",
   "execution_count": 27,
   "id": "7fcd4b82-65d5-41ec-a984-2882c2db4fe0",
   "metadata": {},
   "outputs": [],
   "source": [
    "# import libraries\n",
    "from bs4 import BeautifulSoup\n",
    "import requests\n",
    "import time\n",
    "import datetime \n",
    "import pandas as pd\n",
    "\n",
    "import smtplib"
   ]
  },
  {
   "cell_type": "code",
   "execution_count": 29,
   "id": "d154a7c0-222b-407c-8b27-358dc5878252",
   "metadata": {},
   "outputs": [],
   "source": [
    "# Connect to Website and pull in data\n",
    "\n",
    "URL = 'https://www.amazon.com/Funny-Data-Systems-Business-Analyst/dp/B07FNW9FGJ/ref=sr_1_3?dchild=1&keywords=data%2Banalyst%2Btshirt&qid=1626655184&sr=8-3&customId=B0752XJYNL&th=1'\n",
    "\n",
    "headers = {\"User-Agent\": \"Mozilla/5.0 (Windows NT 10.0; Win64; x64) AppleWebKit/537.36 (KHTML, like Gecko) Chrome/78.0.3904.108 Safari/537.36\", \"Accept-Encoding\":\"gzip, deflate\", \"Accept\":\"text/html,application/xhtml+xml,application/xml;q=0.9,*/*;q=0.8\", \"DNT\":\"1\",\"Connection\":\"close\", \"Upgrade-Insecure-Requests\":\"1\"}\n",
    "\n",
    "page = requests.get(URL, headers=headers)\n",
    "\n",
    "soup1 = BeautifulSoup(page.content, \"html.parser\")\n",
    "\n",
    "soup2 = BeautifulSoup(soup1.prettify(), \"html.parser\")\n",
    "\n",
    "title = soup2.find(id='productTitle').get_text()\n",
    "price = soup2.find(class_ = 'a-price-whole').get_text()\n",
    "\n"
   ]
  },
  {
   "cell_type": "code",
   "execution_count": 31,
   "id": "8686b9f3-e2b2-4b87-add9-71f3b2fc465f",
   "metadata": {},
   "outputs": [
    {
     "name": "stdout",
     "output_type": "stream",
     "text": [
      "12\n"
     ]
    }
   ],
   "source": [
    "title= title.strip()\n",
    "price = soup2.find(class_ = 'a-price-whole').get_text().strip()[:2]\n",
    "print(price)"
   ]
  },
  {
   "cell_type": "code",
   "execution_count": 33,
   "id": "09db5cdb-c60f-4b0a-8f73-45feb2af54f3",
   "metadata": {},
   "outputs": [
    {
     "name": "stdout",
     "output_type": "stream",
     "text": [
      "Funny Got Data MIS Data Systems Business Analyst T-Shirt\n",
      "12\n"
     ]
    },
    {
     "data": {
      "text/plain": [
       "str"
      ]
     },
     "execution_count": 33,
     "metadata": {},
     "output_type": "execute_result"
    }
   ],
   "source": [
    "print(title)\n",
    "print(price)\n",
    "type(price)"
   ]
  },
  {
   "cell_type": "code",
   "execution_count": 35,
   "id": "75db29b9-7c1e-4486-928f-f306c56d72bb",
   "metadata": {},
   "outputs": [
    {
     "name": "stdout",
     "output_type": "stream",
     "text": [
      "2024-10-30\n"
     ]
    }
   ],
   "source": [
    "import datetime \n",
    "today = datetime.date.today()\n",
    "print(today)"
   ]
  },
  {
   "cell_type": "code",
   "execution_count": 37,
   "id": "2034bbea-5563-4f11-98bd-974b94111b89",
   "metadata": {},
   "outputs": [],
   "source": [
    "import csv\n",
    "header = ['Title', 'Price','Date']\n",
    "data = [title, price, today]\n",
    "#type(data)\n",
    "\n",
    "with open('AmazonWebScrapingDataset.csv','w', newline = '', encoding = 'UTF8') as f:\n",
    "    writer =  csv.writer(f)\n",
    "    writer.writerow(header)\n",
    "    writer.writerow(data)\n",
    "    "
   ]
  },
  {
   "cell_type": "code",
   "execution_count": 39,
   "id": "ef617938-319b-457e-8688-09a1789af776",
   "metadata": {},
   "outputs": [
    {
     "name": "stdout",
     "output_type": "stream",
     "text": [
      "                                               Title  Price        Date\n",
      "0  Funny Got Data MIS Data Systems Business Analy...     12  2024-10-30\n"
     ]
    }
   ],
   "source": [
    "df = pd.read_csv(r\"C:\\Users\\lamya\\OneDrive\\Python new\\AmazonWebScrapingDataset.csv\")\n",
    "print (df)"
   ]
  },
  {
   "cell_type": "code",
   "execution_count": 41,
   "id": "9a822327-f26a-40da-bf16-f32a18e9ef92",
   "metadata": {},
   "outputs": [],
   "source": [
    "# now we are appending data to the csv\n",
    "\n",
    "with open('AmazonWebScrapingDataset.csv','a+', newline = '', encoding = 'UTF8') as f:\n",
    "    writer =  csv.writer(f)\n",
    "    writer.writerow(data)"
   ]
  },
  {
   "cell_type": "code",
   "execution_count": 43,
   "id": "bdf8f1df-6935-4ea8-843b-debb3164fd18",
   "metadata": {},
   "outputs": [],
   "source": [
    "def check_price():\n",
    "    \n",
    "    URL = 'https://www.amazon.com/Funny-Data-Systems-Business-Analyst/dp/B07FNW9FGJ/ref=sr_1_3?dchild=1&keywords=data%2Banalyst%2Btshirt&qid=1626655184&sr=8-3&customId=B0752XJYNL&th=1'\n",
    "\n",
    "    headers = {\"User-Agent\": \"Mozilla/5.0 (Windows NT 10.0; Win64; x64) AppleWebKit/537.36 (KHTML, like Gecko) Chrome/78.0.3904.108 Safari/537.36\", \"Accept-Encoding\":\"gzip, deflate\", \"Accept\":\"text/html,application/xhtml+xml,application/xml;q=0.9,*/*;q=0.8\", \"DNT\":\"1\",\"Connection\":\"close\", \"Upgrade-Insecure-Requests\":\"1\"}\n",
    "\n",
    "    page = requests.get(URL, headers=headers)\n",
    "\n",
    "    soup1 = BeautifulSoup(page.content, \"html.parser\")\n",
    "\n",
    "    soup2 = BeautifulSoup(soup1.prettify(), \"html.parser\")\n",
    "\n",
    "    title = soup2.find(id='productTitle').get_text()\n",
    "    \n",
    "    title= title.strip()\n",
    "    \n",
    "    price = soup2.find(class_ = 'a-price-whole').get_text().strip()[:2]\n",
    "    \n",
    "    import datetime \n",
    "    \n",
    "    today = datetime.date.today()\n",
    "\n",
    "    import csv\n",
    "    \n",
    "    header = ['Title', 'Price','Date']\n",
    "    \n",
    "    data = [title, price, today]\n",
    "    \n",
    "    with open('AmazonWebScrapingDataset.csv','a+', newline = '', encoding = 'UTF8') as f:\n",
    "         writer =  csv.writer(f)\n",
    "         writer.writerow(data)"
   ]
  },
  {
   "cell_type": "code",
   "execution_count": 51,
   "id": "6c27d6a9-038c-4eda-b807-cf100a551299",
   "metadata": {},
   "outputs": [],
   "source": [
    "#while(True):\n",
    "    #check_price()\n",
    "    #time.sleep(60)"
   ]
  },
  {
   "cell_type": "code",
   "execution_count": 53,
   "id": "bbaa49a7-8b40-4ad5-8383-97c1956fdda6",
   "metadata": {},
   "outputs": [
    {
     "name": "stdout",
     "output_type": "stream",
     "text": [
      "                                               Title  Price        Date\n",
      "0  Funny Got Data MIS Data Systems Business Analy...     12  2024-10-30\n",
      "1  Funny Got Data MIS Data Systems Business Analy...     12  2024-10-30\n",
      "2  Funny Got Data MIS Data Systems Business Analy...     12  2024-10-30\n",
      "3  Funny Got Data MIS Data Systems Business Analy...     18  2024-10-30\n",
      "4  Funny Got Data MIS Data Systems Business Analy...     14  2024-10-30\n",
      "5  Funny Got Data MIS Data Systems Business Analy...     14  2024-10-30\n",
      "6  Funny Got Data MIS Data Systems Business Analy...     14  2024-10-30\n",
      "7  Funny Got Data MIS Data Systems Business Analy...     14  2024-10-30\n",
      "8  Funny Got Data MIS Data Systems Business Analy...     12  2024-10-30\n"
     ]
    }
   ],
   "source": [
    "df = pd.read_csv(r\"C:\\Users\\lamya\\OneDrive\\Python new\\AmazonWebScrapingDataset.csv\")\n",
    "print(df)"
   ]
  },
  {
   "cell_type": "code",
   "execution_count": null,
   "id": "8a62f58b-6def-4c39-9fc4-ec50491cd47c",
   "metadata": {},
   "outputs": [],
   "source": []
  },
  {
   "cell_type": "code",
   "execution_count": null,
   "id": "4a63b3b4-b545-41f0-a05f-a099d0033c46",
   "metadata": {},
   "outputs": [],
   "source": []
  },
  {
   "cell_type": "code",
   "execution_count": null,
   "id": "62adda15-91b9-4cc1-82f1-a185d66462d9",
   "metadata": {},
   "outputs": [],
   "source": []
  },
  {
   "cell_type": "code",
   "execution_count": null,
   "id": "6eb36043-36fe-4159-8ebe-42d9775e5a5c",
   "metadata": {},
   "outputs": [],
   "source": []
  },
  {
   "cell_type": "code",
   "execution_count": null,
   "id": "c805de6e-3d0e-40ac-9dea-9bbd24331829",
   "metadata": {},
   "outputs": [],
   "source": []
  },
  {
   "cell_type": "code",
   "execution_count": null,
   "id": "0621311c-3437-4710-befb-f01edfc92314",
   "metadata": {},
   "outputs": [],
   "source": []
  },
  {
   "cell_type": "code",
   "execution_count": null,
   "id": "28611447-efbe-4d87-81e6-04832ceb5d26",
   "metadata": {},
   "outputs": [],
   "source": []
  },
  {
   "cell_type": "code",
   "execution_count": null,
   "id": "ccc4251d-9e4f-4907-b538-7eb514a06b0e",
   "metadata": {},
   "outputs": [],
   "source": []
  },
  {
   "cell_type": "code",
   "execution_count": null,
   "id": "d455b0b1-75d8-412e-b889-361481252b51",
   "metadata": {},
   "outputs": [],
   "source": []
  },
  {
   "cell_type": "code",
   "execution_count": null,
   "id": "50599391-29d9-454b-b79a-d63f715f9280",
   "metadata": {},
   "outputs": [],
   "source": []
  },
  {
   "cell_type": "code",
   "execution_count": null,
   "id": "e238f830-2b38-4213-b42b-fe6017e8554e",
   "metadata": {},
   "outputs": [],
   "source": []
  },
  {
   "cell_type": "code",
   "execution_count": null,
   "id": "57ebbd9d-b2ed-49b7-8e95-e23b2fb3c74e",
   "metadata": {},
   "outputs": [],
   "source": []
  },
  {
   "cell_type": "code",
   "execution_count": null,
   "id": "24d051b6-c19b-4fb0-8118-ed4c30fec81c",
   "metadata": {},
   "outputs": [],
   "source": []
  },
  {
   "cell_type": "code",
   "execution_count": null,
   "id": "7717d95a-3bd2-4640-ad29-c81f0a125b26",
   "metadata": {},
   "outputs": [],
   "source": []
  },
  {
   "cell_type": "code",
   "execution_count": null,
   "id": "1ab08584-d626-40af-a71f-b6d582d21716",
   "metadata": {},
   "outputs": [],
   "source": []
  },
  {
   "cell_type": "code",
   "execution_count": null,
   "id": "851dad84-5317-4507-b50c-bdc82b454db9",
   "metadata": {},
   "outputs": [],
   "source": []
  },
  {
   "cell_type": "code",
   "execution_count": null,
   "id": "2edddded-ac0c-4e77-a3a4-b9ed42b282b6",
   "metadata": {},
   "outputs": [],
   "source": []
  },
  {
   "cell_type": "code",
   "execution_count": null,
   "id": "e7a580a3-b1e3-463c-a229-fbe951876824",
   "metadata": {},
   "outputs": [],
   "source": []
  }
 ],
 "metadata": {
  "kernelspec": {
   "display_name": "Python 3 (ipykernel)",
   "language": "python",
   "name": "python3"
  },
  "language_info": {
   "codemirror_mode": {
    "name": "ipython",
    "version": 3
   },
   "file_extension": ".py",
   "mimetype": "text/x-python",
   "name": "python",
   "nbconvert_exporter": "python",
   "pygments_lexer": "ipython3",
   "version": "3.12.4"
  }
 },
 "nbformat": 4,
 "nbformat_minor": 5
}
