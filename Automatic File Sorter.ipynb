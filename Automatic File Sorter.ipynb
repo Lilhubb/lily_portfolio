{
 "cells": [
  {
   "cell_type": "markdown",
   "id": "3c49fbf4-de9b-4593-97f2-e6a9544d3ac6",
   "metadata": {},
   "source": [
    "# Automatic File Sorter in File Explorer"
   ]
  },
  {
   "cell_type": "code",
   "execution_count": 23,
   "id": "ac078e81-3d05-4ac4-b614-b6a44369b5a9",
   "metadata": {},
   "outputs": [],
   "source": [
    "import os, shutil"
   ]
  },
  {
   "cell_type": "code",
   "execution_count": 25,
   "id": "abc65577-20eb-4106-81ad-c44706928b24",
   "metadata": {},
   "outputs": [],
   "source": [
    "path = r\"C:/Users/lamya/OneDrive/New folder/\""
   ]
  },
  {
   "cell_type": "code",
   "execution_count": 27,
   "id": "49b57f8e-0fc3-43c2-812e-342a55a87de9",
   "metadata": {},
   "outputs": [
    {
     "data": {
      "text/plain": [
       "['Clarksons Cover letter.docx',\n",
       " 'Clean Energy PowerPoint Templates.pptx',\n",
       " 'Copy of calculation.xlsx',\n",
       " 'List Of companies.docx',\n",
       " 'Screenshot 2023-08-02 141902.png']"
      ]
     },
     "execution_count": 27,
     "metadata": {},
     "output_type": "execute_result"
    }
   ],
   "source": [
    "os.listdir(path)"
   ]
  },
  {
   "cell_type": "code",
   "execution_count": 33,
   "id": "f7b4fe08-e49f-49e4-bb19-e17b76005b2c",
   "metadata": {},
   "outputs": [
    {
     "name": "stdout",
     "output_type": "stream",
     "text": [
      "C:/Users/lamya/OneDrive/New folder/excel files\n"
     ]
    }
   ],
   "source": [
    "folder_names = ['Powerp files', 'word files', 'image files', 'excel files']\n",
    "for loop in range(0,4):\n",
    "    if not os.path.exists(path + folder_names[loop]):\n",
    "        print(path + folder_names[loop])\n",
    "        os.makedirs((path + folder_names[loop]))\n",
    "    "
   ]
  },
  {
   "cell_type": "code",
   "execution_count": null,
   "id": "676ad211-fa7a-4b6f-8068-f7eeaa97f76d",
   "metadata": {},
   "outputs": [],
   "source": []
  },
  {
   "cell_type": "code",
   "execution_count": null,
   "id": "8e449c06-03da-4995-8092-6a097570e0e3",
   "metadata": {},
   "outputs": [],
   "source": []
  },
  {
   "cell_type": "code",
   "execution_count": null,
   "id": "180637e9-61c1-4332-92dc-36508a82e978",
   "metadata": {},
   "outputs": [],
   "source": []
  }
 ],
 "metadata": {
  "kernelspec": {
   "display_name": "Python 3 (ipykernel)",
   "language": "python",
   "name": "python3"
  },
  "language_info": {
   "codemirror_mode": {
    "name": "ipython",
    "version": 3
   },
   "file_extension": ".py",
   "mimetype": "text/x-python",
   "name": "python",
   "nbconvert_exporter": "python",
   "pygments_lexer": "ipython3",
   "version": "3.12.4"
  }
 },
 "nbformat": 4,
 "nbformat_minor": 5
}
